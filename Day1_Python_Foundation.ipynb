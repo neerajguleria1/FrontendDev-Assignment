{
  "nbformat": 4,
  "nbformat_minor": 0,
  "metadata": {
    "colab": {
      "provenance": [],
      "authorship_tag": "ABX9TyOz+7bj9SgvslbDNiZWJFUr",
      "include_colab_link": true
    },
    "kernelspec": {
      "name": "python3",
      "display_name": "Python 3"
    },
    "language_info": {
      "name": "python"
    }
  },
  "cells": [
    {
      "cell_type": "markdown",
      "metadata": {
        "id": "view-in-github",
        "colab_type": "text"
      },
      "source": [
        "<a href=\"https://colab.research.google.com/github/neerajguleria1/FrontendDev-Assignment/blob/main/Day1_Python_Foundation.ipynb\" target=\"_parent\"><img src=\"https://colab.research.google.com/assets/colab-badge.svg\" alt=\"Open In Colab\"/></a>"
      ]
    },
    {
      "cell_type": "code",
      "execution_count": 2,
      "metadata": {
        "id": "r7IYVbDBUjkn",
        "colab": {
          "base_uri": "https://localhost:8080/"
        },
        "outputId": "90868856-d478-4a50-cf09-7ff72aa81300"
      },
      "outputs": [
        {
          "output_type": "stream",
          "name": "stdout",
          "text": [
            "Hii! Neeraj\n"
          ]
        }
      ],
      "source": [
        "print('Hii! Neeraj')"
      ]
    },
    {
      "cell_type": "code",
      "source": [],
      "metadata": {
        "id": "_DW478a2hq5A"
      },
      "execution_count": 2,
      "outputs": []
    },
    {
      "cell_type": "code",
      "source": [],
      "metadata": {
        "id": "vgWGr61BhsPp"
      },
      "execution_count": 2,
      "outputs": []
    },
    {
      "cell_type": "code",
      "source": [
        "# single line comment\n",
        "'''this is a multiline\n",
        "   comment'''\n",
        "print(\"hlo\")"
      ],
      "metadata": {
        "colab": {
          "base_uri": "https://localhost:8080/"
        },
        "id": "AMvX6jSxcZ4J",
        "outputId": "e27d7903-2659-44fe-a51f-91eb3967ad74"
      },
      "execution_count": 1,
      "outputs": [
        {
          "output_type": "stream",
          "name": "stdout",
          "text": [
            "hlo\n"
          ]
        }
      ]
    },
    {
      "cell_type": "code",
      "source": [
        "#Variable\n",
        "\n",
        "a=21\n",
        "print(a)\n",
        "\n",
        "b=235.44\n",
        "print(b)\n",
        "\n",
        "c=\"Thakur\"\n",
        "print(c)\n",
        "\n",
        "d=False\n",
        "print(d)\n",
        "\n",
        "print(type(a))\n",
        "print(type(b))\n",
        "print(type(c))\n",
        "print(type(d))"
      ],
      "metadata": {
        "colab": {
          "base_uri": "https://localhost:8080/"
        },
        "id": "9ysgab3HdEOw",
        "outputId": "6382212b-e6b0-42be-e0f9-6f2b10889288"
      },
      "execution_count": 3,
      "outputs": [
        {
          "output_type": "stream",
          "name": "stdout",
          "text": [
            "21\n",
            "235.44\n",
            "Thakur\n",
            "False\n",
            "<class 'int'>\n",
            "<class 'float'>\n",
            "<class 'str'>\n",
            "<class 'bool'>\n"
          ]
        }
      ]
    },
    {
      "cell_type": "code",
      "source": [
        "# Valid Invalid var names\n",
        "-a=10\n",
        "a@b\n",
        "5m"
      ],
      "metadata": {
        "colab": {
          "base_uri": "https://localhost:8080/",
          "height": 106
        },
        "id": "YA2sFja2dv82",
        "outputId": "bb644eb5-b420-4c5d-9d60-1839f78e2160"
      },
      "execution_count": 4,
      "outputs": [
        {
          "output_type": "error",
          "ename": "SyntaxError",
          "evalue": "invalid decimal literal (ipython-input-1602942943.py, line 4)",
          "traceback": [
            "\u001b[0;36m  File \u001b[0;32m\"/tmp/ipython-input-1602942943.py\"\u001b[0;36m, line \u001b[0;32m4\u001b[0m\n\u001b[0;31m    5m\u001b[0m\n\u001b[0m    ^\u001b[0m\n\u001b[0;31mSyntaxError\u001b[0m\u001b[0;31m:\u001b[0m invalid decimal literal\n"
          ]
        }
      ]
    },
    {
      "cell_type": "code",
      "source": [
        "# Case Sensitive in python\n",
        "name='sujal'\n",
        "print(Name)#it will not print this because python is case sensitive we have to type name\n",
        "FirstName=\"Neeraj\"\n",
        "LastName=\"Guleria\"\n",
        "print(FirstName+\" \"+LastName)"
      ],
      "metadata": {
        "id": "bisOo34aeLQg"
      },
      "execution_count": null,
      "outputs": []
    },
    {
      "cell_type": "code",
      "source": [
        "# Type Conversion\n",
        "a=10\n",
        "print(type(a))\n",
        "b=float(a)\n",
        "print(type(b))\n",
        "c=str(a)\n",
        "print(type(c))"
      ],
      "metadata": {
        "id": "g6he3ygSe4tN"
      },
      "execution_count": null,
      "outputs": []
    },
    {
      "cell_type": "code",
      "source": [
        "c=\"hye\"\n",
        "d=int(c)\n",
        "print(d)"
      ],
      "metadata": {
        "id": "yAKx4V9Fhp5o"
      },
      "execution_count": null,
      "outputs": []
    },
    {
      "cell_type": "code",
      "source": [
        "# Var reintializations\n",
        "var=10\n",
        "var=\"neeraj\"\n",
        "var=\"false\"\n",
        "print(var)"
      ],
      "metadata": {
        "colab": {
          "base_uri": "https://localhost:8080/"
        },
        "id": "JaTMX4IFh0dz",
        "outputId": "1f51fb30-ff57-4398-f001-24956213e0ff"
      },
      "execution_count": 5,
      "outputs": [
        {
          "output_type": "stream",
          "name": "stdout",
          "text": [
            "false\n"
          ]
        }
      ]
    },
    {
      "cell_type": "code",
      "source": [
        "#input Function\n",
        "var=str(input(\"enter string \"))\n",
        "print(var)\n",
        "var2=int(input(\"enter num\"))\n",
        "type(var2)"
      ],
      "metadata": {
        "colab": {
          "base_uri": "https://localhost:8080/",
          "height": 245
        },
        "id": "fM82rse_iAJ6",
        "outputId": "b3aca1f9-e431-4226-cae9-bf50d97aadc3"
      },
      "execution_count": 6,
      "outputs": [
        {
          "name": "stdout",
          "output_type": "stream",
          "text": [
            "enter string huaug\n",
            "huaug\n",
            "enter numkg\n"
          ]
        },
        {
          "output_type": "error",
          "ename": "ValueError",
          "evalue": "invalid literal for int() with base 10: 'kg'",
          "traceback": [
            "\u001b[0;31m---------------------------------------------------------------------------\u001b[0m",
            "\u001b[0;31mValueError\u001b[0m                                Traceback (most recent call last)",
            "\u001b[0;32m/tmp/ipython-input-1156615953.py\u001b[0m in \u001b[0;36m<cell line: 0>\u001b[0;34m()\u001b[0m\n\u001b[1;32m      2\u001b[0m \u001b[0mvar\u001b[0m\u001b[0;34m=\u001b[0m\u001b[0mstr\u001b[0m\u001b[0;34m(\u001b[0m\u001b[0minput\u001b[0m\u001b[0;34m(\u001b[0m\u001b[0;34m\"enter string \"\u001b[0m\u001b[0;34m)\u001b[0m\u001b[0;34m)\u001b[0m\u001b[0;34m\u001b[0m\u001b[0;34m\u001b[0m\u001b[0m\n\u001b[1;32m      3\u001b[0m \u001b[0mprint\u001b[0m\u001b[0;34m(\u001b[0m\u001b[0mvar\u001b[0m\u001b[0;34m)\u001b[0m\u001b[0;34m\u001b[0m\u001b[0;34m\u001b[0m\u001b[0m\n\u001b[0;32m----> 4\u001b[0;31m \u001b[0mvar2\u001b[0m\u001b[0;34m=\u001b[0m\u001b[0mint\u001b[0m\u001b[0;34m(\u001b[0m\u001b[0minput\u001b[0m\u001b[0;34m(\u001b[0m\u001b[0;34m\"enter num\"\u001b[0m\u001b[0;34m)\u001b[0m\u001b[0;34m)\u001b[0m\u001b[0;34m\u001b[0m\u001b[0;34m\u001b[0m\u001b[0m\n\u001b[0m\u001b[1;32m      5\u001b[0m \u001b[0mtype\u001b[0m\u001b[0;34m(\u001b[0m\u001b[0mvar2\u001b[0m\u001b[0;34m)\u001b[0m\u001b[0;34m\u001b[0m\u001b[0;34m\u001b[0m\u001b[0m\n",
            "\u001b[0;31mValueError\u001b[0m: invalid literal for int() with base 10: 'kg'"
          ]
        }
      ]
    },
    {
      "cell_type": "code",
      "source": [
        "# Data Type\n",
        "a=22;\n",
        "b=23.5\n",
        "c=a+b;\n",
        "print(type(c))\n",
        "print(c)\n",
        "\n",
        "d=\"jhhkj\"\n",
        "e=d+str(c)\n",
        "e"
      ],
      "metadata": {
        "colab": {
          "base_uri": "https://localhost:8080/",
          "height": 70
        },
        "id": "_0HDLE3wh1b9",
        "outputId": "15c8f6e0-afb2-44ea-bb32-3b47918bd72f"
      },
      "execution_count": 16,
      "outputs": [
        {
          "output_type": "stream",
          "name": "stdout",
          "text": [
            "<class 'float'>\n",
            "45.5\n"
          ]
        },
        {
          "output_type": "execute_result",
          "data": {
            "text/plain": [
              "'jhhkj45.5'"
            ],
            "application/vnd.google.colaboratory.intrinsic+json": {
              "type": "string"
            }
          },
          "metadata": {},
          "execution_count": 16
        }
      ]
    },
    {
      "cell_type": "code",
      "source": [
        "# Operators\n",
        "a=20\n",
        "b=4\n",
        "c=a+b\n",
        "d=a-b\n",
        "e=a/b\n",
        "f=a%b\n",
        "print(c)\n",
        "print(d)\n",
        "print(e)\n",
        "print(f)"
      ],
      "metadata": {
        "colab": {
          "base_uri": "https://localhost:8080/"
        },
        "id": "2j_IY88djXW_",
        "outputId": "0f294fdf-d994-4df2-f0e7-0599fe0ecda5"
      },
      "execution_count": 18,
      "outputs": [
        {
          "output_type": "stream",
          "name": "stdout",
          "text": [
            "24\n",
            "16\n",
            "5.0\n",
            "0\n"
          ]
        }
      ]
    },
    {
      "cell_type": "code",
      "source": [
        "# Comparison Opeartor\n",
        "a=4\n",
        "b=5\n",
        "print(a>b)\n",
        "print(a<b)\n",
        "print(a==b)\n",
        "print(a!=b)"
      ],
      "metadata": {
        "colab": {
          "base_uri": "https://localhost:8080/"
        },
        "id": "fh-se1f3j5uj",
        "outputId": "5b81963d-26e9-4fe7-99a7-2dfe84958399"
      },
      "execution_count": 20,
      "outputs": [
        {
          "output_type": "stream",
          "name": "stdout",
          "text": [
            "False\n",
            "True\n",
            "False\n",
            "True\n"
          ]
        }
      ]
    },
    {
      "cell_type": "code",
      "source": [
        "# Logical Operator\n",
        "a=True\n",
        "b=False\n",
        "print(a and b)\n",
        "print(a or b)\n",
        "print( not b)"
      ],
      "metadata": {
        "colab": {
          "base_uri": "https://localhost:8080/"
        },
        "id": "a68_y9KSkUjs",
        "outputId": "a983c6b2-5af0-4eb9-89e5-c19ac32a23c0"
      },
      "execution_count": 23,
      "outputs": [
        {
          "output_type": "stream",
          "name": "stdout",
          "text": [
            "False\n",
            "True\n",
            "True\n"
          ]
        }
      ]
    },
    {
      "cell_type": "code",
      "source": [
        "# Simple Calculator that take two inputs and return basix arithment operations\n",
        "a=int(input(\"enter a number\"))\n",
        "b=int(input(\"enter other number\"))\n",
        "print(a+b)\n",
        "print(a-b)\n",
        "print(a*b)\n",
        "print(a/b)\n",
        "print(a%b)"
      ],
      "metadata": {
        "colab": {
          "base_uri": "https://localhost:8080/"
        },
        "id": "FK4NXtu4k2AK",
        "outputId": "d7791705-8aee-4035-9c9e-e59b66841071"
      },
      "execution_count": 24,
      "outputs": [
        {
          "output_type": "stream",
          "name": "stdout",
          "text": [
            "enter a number44\n",
            "enter other number6\n",
            "50\n",
            "38\n",
            "264\n",
            "7.333333333333333\n",
            "2\n"
          ]
        }
      ]
    },
    {
      "cell_type": "code",
      "source": [
        "# Conditional Statements\n",
        "a=int(input(\"enter first num\"))\n",
        "b=int(input(\"enter second num\"))\n",
        "if a>b:\n",
        "  print(\"a is greater then b\")\n",
        "else:\n",
        "  print(\"b is greater then a\")"
      ],
      "metadata": {
        "colab": {
          "base_uri": "https://localhost:8080/"
        },
        "id": "_Do1jPQPlU3U",
        "outputId": "59aedef1-416a-4ab9-80a8-a5b700ce3ca6"
      },
      "execution_count": 25,
      "outputs": [
        {
          "output_type": "stream",
          "name": "stdout",
          "text": [
            "enter first num56\n",
            "enter second num7\n",
            "a is greater then b\n"
          ]
        }
      ]
    },
    {
      "cell_type": "code",
      "source": [
        "# program to find num is even or odd\n",
        "a=int(input(\"enter a\"))\n",
        "if a%2==0:\n",
        "  print(\"a is even\")\n",
        "else:\n",
        "  print(\"a is odd\")"
      ],
      "metadata": {
        "colab": {
          "base_uri": "https://localhost:8080/"
        },
        "id": "6_6MbPo-l-56",
        "outputId": "1ef83edf-588c-44b9-83e2-4cb713191dcd"
      },
      "execution_count": 27,
      "outputs": [
        {
          "output_type": "stream",
          "name": "stdout",
          "text": [
            "enter a11\n",
            "a is odd\n"
          ]
        }
      ]
    }
  ]
}